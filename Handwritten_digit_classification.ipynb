{
  "nbformat": 4,
  "nbformat_minor": 0,
  "metadata": {
    "colab": {
      "provenance": [],
      "gpuType": "T4",
      "authorship_tag": "ABX9TyN9E6yAKXXJP+L57TGBUeln",
      "include_colab_link": true
    },
    "kernelspec": {
      "name": "python3",
      "display_name": "Python 3"
    },
    "language_info": {
      "name": "python"
    },
    "accelerator": "GPU"
  },
  "cells": [
    {
      "cell_type": "markdown",
      "metadata": {
        "id": "view-in-github",
        "colab_type": "text"
      },
      "source": [
        "<a href=\"https://colab.research.google.com/github/ujjwalchandurkar11/Deep-Learning/blob/main/Handwritten_digit_classification.ipynb\" target=\"_parent\"><img src=\"https://colab.research.google.com/assets/colab-badge.svg\" alt=\"Open In Colab\"/></a>"
      ]
    },
    {
      "cell_type": "markdown",
      "source": [
        "# Handwritten digit classification project"
      ],
      "metadata": {
        "id": "QgOnWog1mIE2"
      }
    },
    {
      "cell_type": "code",
      "execution_count": 25,
      "metadata": {
        "id": "PRDQsnAYl5_n"
      },
      "outputs": [],
      "source": [
        "from warnings import filterwarnings\n",
        "filterwarnings('ignore')"
      ]
    },
    {
      "cell_type": "markdown",
      "source": [
        "# Load MNIST dataset"
      ],
      "metadata": {
        "id": "0tsTJk-Am0uM"
      }
    },
    {
      "cell_type": "code",
      "source": [
        "from keras.datasets import mnist\n",
        "(xtrain, ytrain), (xtest, ytest) = mnist.load_data()"
      ],
      "metadata": {
        "id": "1gZoRz2dm49H"
      },
      "execution_count": 76,
      "outputs": []
    },
    {
      "cell_type": "code",
      "source": [
        "xtrain.shape"
      ],
      "metadata": {
        "colab": {
          "base_uri": "https://localhost:8080/"
        },
        "id": "8kFIl5ZanZKO",
        "outputId": "67ea5024-6def-4df0-bcb1-fd77595aebd4"
      },
      "execution_count": 77,
      "outputs": [
        {
          "output_type": "execute_result",
          "data": {
            "text/plain": [
              "(60000, 28, 28)"
            ]
          },
          "metadata": {},
          "execution_count": 77
        }
      ]
    },
    {
      "cell_type": "code",
      "source": [
        "xtrain"
      ],
      "metadata": {
        "colab": {
          "base_uri": "https://localhost:8080/"
        },
        "id": "JfzkGX-lnsUi",
        "outputId": "478f533d-7943-4f22-c23b-a3bcb0a82781"
      },
      "execution_count": 78,
      "outputs": [
        {
          "output_type": "execute_result",
          "data": {
            "text/plain": [
              "array([[[0, 0, 0, ..., 0, 0, 0],\n",
              "        [0, 0, 0, ..., 0, 0, 0],\n",
              "        [0, 0, 0, ..., 0, 0, 0],\n",
              "        ...,\n",
              "        [0, 0, 0, ..., 0, 0, 0],\n",
              "        [0, 0, 0, ..., 0, 0, 0],\n",
              "        [0, 0, 0, ..., 0, 0, 0]],\n",
              "\n",
              "       [[0, 0, 0, ..., 0, 0, 0],\n",
              "        [0, 0, 0, ..., 0, 0, 0],\n",
              "        [0, 0, 0, ..., 0, 0, 0],\n",
              "        ...,\n",
              "        [0, 0, 0, ..., 0, 0, 0],\n",
              "        [0, 0, 0, ..., 0, 0, 0],\n",
              "        [0, 0, 0, ..., 0, 0, 0]],\n",
              "\n",
              "       [[0, 0, 0, ..., 0, 0, 0],\n",
              "        [0, 0, 0, ..., 0, 0, 0],\n",
              "        [0, 0, 0, ..., 0, 0, 0],\n",
              "        ...,\n",
              "        [0, 0, 0, ..., 0, 0, 0],\n",
              "        [0, 0, 0, ..., 0, 0, 0],\n",
              "        [0, 0, 0, ..., 0, 0, 0]],\n",
              "\n",
              "       ...,\n",
              "\n",
              "       [[0, 0, 0, ..., 0, 0, 0],\n",
              "        [0, 0, 0, ..., 0, 0, 0],\n",
              "        [0, 0, 0, ..., 0, 0, 0],\n",
              "        ...,\n",
              "        [0, 0, 0, ..., 0, 0, 0],\n",
              "        [0, 0, 0, ..., 0, 0, 0],\n",
              "        [0, 0, 0, ..., 0, 0, 0]],\n",
              "\n",
              "       [[0, 0, 0, ..., 0, 0, 0],\n",
              "        [0, 0, 0, ..., 0, 0, 0],\n",
              "        [0, 0, 0, ..., 0, 0, 0],\n",
              "        ...,\n",
              "        [0, 0, 0, ..., 0, 0, 0],\n",
              "        [0, 0, 0, ..., 0, 0, 0],\n",
              "        [0, 0, 0, ..., 0, 0, 0]],\n",
              "\n",
              "       [[0, 0, 0, ..., 0, 0, 0],\n",
              "        [0, 0, 0, ..., 0, 0, 0],\n",
              "        [0, 0, 0, ..., 0, 0, 0],\n",
              "        ...,\n",
              "        [0, 0, 0, ..., 0, 0, 0],\n",
              "        [0, 0, 0, ..., 0, 0, 0],\n",
              "        [0, 0, 0, ..., 0, 0, 0]]], dtype=uint8)"
            ]
          },
          "metadata": {},
          "execution_count": 78
        }
      ]
    },
    {
      "cell_type": "code",
      "source": [
        "ytrain"
      ],
      "metadata": {
        "colab": {
          "base_uri": "https://localhost:8080/"
        },
        "id": "Xn4Cvkqunuzr",
        "outputId": "c1bfd7b4-c7d9-4027-9132-b40524725056"
      },
      "execution_count": 79,
      "outputs": [
        {
          "output_type": "execute_result",
          "data": {
            "text/plain": [
              "array([5, 0, 4, ..., 5, 6, 8], dtype=uint8)"
            ]
          },
          "metadata": {},
          "execution_count": 79
        }
      ]
    },
    {
      "cell_type": "code",
      "source": [
        "import matplotlib.pyplot as plt\n",
        "plt.imshow(xtrain[0], cmap='gray')"
      ],
      "metadata": {
        "colab": {
          "base_uri": "https://localhost:8080/",
          "height": 448
        },
        "id": "xpkx7SPBnwoS",
        "outputId": "9c93f312-c149-454a-b27d-305587cd05e0"
      },
      "execution_count": 80,
      "outputs": [
        {
          "output_type": "execute_result",
          "data": {
            "text/plain": [
              "<matplotlib.image.AxesImage at 0x77fc9f7c89a0>"
            ]
          },
          "metadata": {},
          "execution_count": 80
        },
        {
          "output_type": "display_data",
          "data": {
            "text/plain": [
              "<Figure size 640x480 with 1 Axes>"
            ],
            "image/png": "[encoded data removed]"
          },
          "metadata": {}
        }
      ]
    },
    {
      "cell_type": "code",
      "source": [
        "xtest.shape"
      ],
      "metadata": {
        "colab": {
          "base_uri": "https://localhost:8080/"
        },
        "id": "uF--e-5BnyR-",
        "outputId": "15beeaba-59ed-458b-a0a7-9c08d8e26499"
      },
      "execution_count": 81,
      "outputs": [
        {
          "output_type": "execute_result",
          "data": {
            "text/plain": [
              "(10000, 28, 28)"
            ]
          },
          "metadata": {},
          "execution_count": 81
        }
      ]
    },
    {
      "cell_type": "code",
      "source": [
        "ytest"
      ],
      "metadata": {
        "colab": {
          "base_uri": "https://localhost:8080/"
        },
        "id": "bmEfIDb9pT2F",
        "outputId": "cc6331b7-fb2d-4d0c-c9bc-6a3feba1d3cf"
      },
      "execution_count": 82,
      "outputs": [
        {
          "output_type": "execute_result",
          "data": {
            "text/plain": [
              "array([7, 2, 1, ..., 4, 5, 6], dtype=uint8)"
            ]
          },
          "metadata": {},
          "execution_count": 82
        }
      ]
    },
    {
      "cell_type": "code",
      "source": [
        "plt.imshow(xtest[0], cmap='gray')"
      ],
      "metadata": {
        "colab": {
          "base_uri": "https://localhost:8080/",
          "height": 448
        },
        "id": "HcrjQ8IjpU6E",
        "outputId": "9e7d43dd-2532-46c3-c029-ed2e4f867972"
      },
      "execution_count": 83,
      "outputs": [
        {
          "output_type": "execute_result",
          "data": {
            "text/plain": [
              "<matplotlib.image.AxesImage at 0x77fd343e9330>"
            ]
          },
          "metadata": {},
          "execution_count": 83
        },
        {
          "output_type": "display_data",
          "data": {
            "text/plain": [
              "<Figure size 640x480 with 1 Axes>"
            ],
            "image/png": "[encoded data removed]"
          },
          "metadata": {}
        }
      ]
    },
    {
      "cell_type": "markdown",
      "source": [
        "Displaying first 9 images from train data"
      ],
      "metadata": {
        "id": "GoXlMm77rDDs"
      }
    },
    {
      "cell_type": "code",
      "source": [
        "plt.figure(figsize=(10, 10))\n",
        "for i in range(9):\n",
        "    plt.subplot(3, 3, i+1)\n",
        "    plt.imshow(xtrain[i], cmap='gray')\n",
        "    plt.title(f\"Label : {ytrain[i]}\")"
      ],
      "metadata": {
        "colab": {
          "base_uri": "https://localhost:8080/",
          "height": 853
        },
        "id": "3EvxVkdVqinI",
        "outputId": "212a3d86-706f-4f88-e5fb-eb53dc41c804"
      },
      "execution_count": 84,
      "outputs": [
        {
          "output_type": "display_data",
          "data": {
            "text/plain": [
              "<Figure size 1000x1000 with 9 Axes>"
            ],
            "image/png": "[encoded data removed]"
          },
          "metadata": {}
        }
      ]
    },
    {
      "cell_type": "code",
      "source": [
        "import numpy as np\n",
        "np.unique(ytrain)"
      ],
      "metadata": {
        "colab": {
          "base_uri": "https://localhost:8080/"
        },
        "id": "abi61fOrsEGC",
        "outputId": "c76c8a5a-5fba-404c-befc-86d3835f8f77"
      },
      "execution_count": 85,
      "outputs": [
        {
          "output_type": "execute_result",
          "data": {
            "text/plain": [
              "array([0, 1, 2, 3, 4, 5, 6, 7, 8, 9], dtype=uint8)"
            ]
          },
          "metadata": {},
          "execution_count": 85
        }
      ]
    },
    {
      "cell_type": "code",
      "source": [
        "len(np.unique(ytrain))"
      ],
      "metadata": {
        "colab": {
          "base_uri": "https://localhost:8080/"
        },
        "id": "FaIfADmPsm3Q",
        "outputId": "8c9c9848-366f-4572-c73c-16d867667d0a"
      },
      "execution_count": 86,
      "outputs": [
        {
          "output_type": "execute_result",
          "data": {
            "text/plain": [
              "10"
            ]
          },
          "metadata": {},
          "execution_count": 86
        }
      ]
    },
    {
      "cell_type": "markdown",
      "source": [
        "This is multiclass classification problem\n",
        "\n",
        "## Preprocess image data\n",
        "Pixel value- 0-255"
      ],
      "metadata": {
        "id": "uktbLPrDs2Kv"
      }
    },
    {
      "cell_type": "code",
      "source": [
        "xtrain_scl = xtrain.astype(\"float32\")/255\n",
        "xtest_scl = xtest.astype(\"float32\")/255"
      ],
      "metadata": {
        "id": "A47KgLAes12S"
      },
      "execution_count": 87,
      "outputs": []
    },
    {
      "cell_type": "code",
      "source": [
        "xtrain_scl[0]"
      ],
      "metadata": {
        "colab": {
          "base_uri": "https://localhost:8080/"
        },
        "id": "gXmnDhMGssYI",
        "outputId": "bf4bd0cc-9939-4cb6-8075-12e90bfba4ac"
      },
      "execution_count": 88,
      "outputs": [
        {
          "output_type": "execute_result",
          "data": {
            "text/plain": [
              "array([[0.        , 0.        , 0.        , 0.        , 0.        ,\n",
              "        0.        , 0.        , 0.        , 0.        , 0.        ,\n",
              "        0.        , 0.        , 0.        , 0.        , 0.        ,\n",
              "        0.        , 0.        , 0.        , 0.        , 0.        ,\n",
              "        0.        , 0.        , 0.        , 0.        , 0.        ,\n",
              "        0.        , 0.        , 0.        ],\n",
              "       [0.        , 0.        , 0.        , 0.        , 0.        ,\n",
              "        0.        , 0.        , 0.        , 0.        , 0.        ,\n",
              "        0.        , 0.        , 0.        , 0.        , 0.        ,\n",
              "        0.        , 0.        , 0.        , 0.        , 0.        ,\n",
              "        0.        , 0.        , 0.        , 0.        , 0.        ,\n",
              "        0.        , 0.        , 0.        ],\n",
              "       [0.        , 0.        , 0.        , 0.        , 0.        ,\n",
              "        0.        , 0.        , 0.        , 0.        , 0.        ,\n",
              "        0.        , 0.        , 0.        , 0.        , 0.        ,\n",
              "        0.        , 0.        , 0.        , 0.        , 0.        ,\n",
              "        0.        , 0.        , 0.        , 0.        , 0.        ,\n",
              "        0.        , 0.        , 0.        ],\n",
              "       [0.        , 0.        , 0.        , 0.        , 0.        ,\n",
              "        0.        , 0.        , 0.        , 0.        , 0.        ,\n",
              "        0.        , 0.        , 0.        , 0.        , 0.        ,\n",
              "        0.        , 0.        , 0.        , 0.        , 0.        ,\n",
              "        0.        , 0.        , 0.        , 0.        , 0.        ,\n",
              "        0.        , 0.        , 0.        ],\n",
              "       [0.        , 0.        , 0.        , 0.        , 0.        ,\n",
              "        0.        , 0.        , 0.        , 0.        , 0.        ,\n",
              "        0.        , 0.        , 0.        , 0.        , 0.        ,\n",
              "        0.        , 0.        , 0.        , 0.        , 0.        ,\n",
              "        0.        , 0.        , 0.        , 0.        , 0.        ,\n",
              "        0.        , 0.        , 0.        ],\n",
              "       [0.        , 0.        , 0.        , 0.        , 0.        ,\n",
              "        0.        , 0.        , 0.        , 0.        , 0.        ,\n",
              "        0.        , 0.        , 0.01176471, 0.07058824, 0.07058824,\n",
              "        0.07058824, 0.49411765, 0.53333336, 0.6862745 , 0.10196079,\n",
              "        0.6509804 , 1.        , 0.96862745, 0.49803922, 0.        ,\n",
              "        0.        , 0.        , 0.        ],\n",
              "       [0.        , 0.        , 0.        , 0.        , 0.        ,\n",
              "        0.        , 0.        , 0.        , 0.11764706, 0.14117648,\n",
              "        0.36862746, 0.6039216 , 0.6666667 , 0.99215686, 0.99215686,\n",
              "        0.99215686, 0.99215686, 0.99215686, 0.88235295, 0.6745098 ,\n",
              "        0.99215686, 0.9490196 , 0.7647059 , 0.2509804 , 0.        ,\n",
              "        0.        , 0.        , 0.        ],\n",
              "       [0.        , 0.        , 0.        , 0.        , 0.        ,\n",
              "        0.        , 0.        , 0.19215687, 0.93333334, 0.99215686,\n",
              "        0.99215686, 0.99215686, 0.99215686, 0.99215686, 0.99215686,\n",
              "        0.99215686, 0.99215686, 0.9843137 , 0.3647059 , 0.32156864,\n",
              "        0.32156864, 0.21960784, 0.15294118, 0.        , 0.        ,\n",
              "        0.        , 0.        , 0.        ],\n",
              "       [0.        , 0.        , 0.        , 0.        , 0.        ,\n",
              "        0.        , 0.        , 0.07058824, 0.85882354, 0.99215686,\n",
              "        0.99215686, 0.99215686, 0.99215686, 0.99215686, 0.7764706 ,\n",
              "        0.7137255 , 0.96862745, 0.94509804, 0.        , 0.        ,\n",
              "        0.        , 0.        , 0.        , 0.        , 0.        ,\n",
              "        0.        , 0.        , 0.        ],\n",
              "       [0.        , 0.        , 0.        , 0.        , 0.        ,\n",
              "        0.        , 0.        , 0.        , 0.3137255 , 0.6117647 ,\n",
              "        0.41960785, 0.99215686, 0.99215686, 0.8039216 , 0.04313726,\n",
              "        0.        , 0.16862746, 0.6039216 , 0.        , 0.        ,\n",
              "        0.        , 0.        , 0.        , 0.        , 0.        ,\n",
              "        0.        , 0.        , 0.        ],\n",
              "       [0.        , 0.        , 0.        , 0.        , 0.        ,\n",
              "        0.        , 0.        , 0.        , 0.        , 0.05490196,\n",
              "        0.00392157, 0.6039216 , 0.99215686, 0.3529412 , 0.        ,\n",
              "        0.        , 0.        , 0.        , 0.        , 0.        ,\n",
              "        0.        , 0.        , 0.        , 0.        , 0.        ,\n",
              "        0.        , 0.        , 0.        ],\n",
              "       [0.        , 0.        , 0.        , 0.        , 0.        ,\n",
              "        0.        , 0.        , 0.        , 0.        , 0.        ,\n",
              "        0.        , 0.54509807, 0.99215686, 0.74509805, 0.00784314,\n",
              "        0.        , 0.        , 0.        , 0.        , 0.        ,\n",
              "        0.        , 0.        , 0.        , 0.        , 0.        ,\n",
              "        0.        , 0.        , 0.        ],\n",
              "       [0.        , 0.        , 0.        , 0.        , 0.        ,\n",
              "        0.        , 0.        , 0.        , 0.        , 0.        ,\n",
              "        0.        , 0.04313726, 0.74509805, 0.99215686, 0.27450982,\n",
              "        0.        , 0.        , 0.        , 0.        , 0.        ,\n",
              "        0.        , 0.        , 0.        , 0.        , 0.        ,\n",
              "        0.        , 0.        , 0.        ],\n",
              "       [0.        , 0.        , 0.        , 0.        , 0.        ,\n",
              "        0.        , 0.        , 0.        , 0.        , 0.        ,\n",
              "        0.        , 0.        , 0.13725491, 0.94509804, 0.88235295,\n",
              "        0.627451  , 0.42352942, 0.00392157, 0.        , 0.        ,\n",
              "        0.        , 0.        , 0.        , 0.        , 0.        ,\n",
              "        0.        , 0.        , 0.        ],\n",
              "       [0.        , 0.        , 0.        , 0.        , 0.        ,\n",
              "        0.        , 0.        , 0.        , 0.        , 0.        ,\n",
              "        0.        , 0.        , 0.        , 0.31764707, 0.9411765 ,\n",
              "        0.99215686, 0.99215686, 0.46666667, 0.09803922, 0.        ,\n",
              "        0.        , 0.        , 0.        , 0.        , 0.        ,\n",
              "        0.        , 0.        , 0.        ],\n",
              "       [0.        , 0.        , 0.        , 0.        , 0.        ,\n",
              "        0.        , 0.        , 0.        , 0.        , 0.        ,\n",
              "        0.        , 0.        , 0.        , 0.        , 0.1764706 ,\n",
              "        0.7294118 , 0.99215686, 0.99215686, 0.5882353 , 0.10588235,\n",
              "        0.        , 0.        , 0.        , 0.        , 0.        ,\n",
              "        0.        , 0.        , 0.        ],\n",
              "       [0.        , 0.        , 0.        , 0.        , 0.        ,\n",
              "        0.        , 0.        , 0.        , 0.        , 0.        ,\n",
              "        0.        , 0.        , 0.        , 0.        , 0.        ,\n",
              "        0.0627451 , 0.3647059 , 0.9882353 , 0.99215686, 0.73333335,\n",
              "        0.        , 0.        , 0.        , 0.        , 0.        ,\n",
              "        0.        , 0.        , 0.        ],\n",
              "       [0.        , 0.        , 0.        , 0.        , 0.        ,\n",
              "        0.        , 0.        , 0.        , 0.        , 0.        ,\n",
              "        0.        , 0.        , 0.        , 0.        , 0.        ,\n",
              "        0.        , 0.        , 0.9764706 , 0.99215686, 0.9764706 ,\n",
              "        0.2509804 , 0.        , 0.        , 0.        , 0.        ,\n",
              "        0.        , 0.        , 0.        ],\n",
              "       [0.        , 0.        , 0.        , 0.        , 0.        ,\n",
              "        0.        , 0.        , 0.        , 0.        , 0.        ,\n",
              "        0.        , 0.        , 0.        , 0.        , 0.18039216,\n",
              "        0.50980395, 0.7176471 , 0.99215686, 0.99215686, 0.8117647 ,\n",
              "        0.00784314, 0.        , 0.        , 0.        , 0.        ,\n",
              "        0.        , 0.        , 0.        ],\n",
              "       [0.        , 0.        , 0.        , 0.        , 0.        ,\n",
              "        0.        , 0.        , 0.        , 0.        , 0.        ,\n",
              "        0.        , 0.        , 0.15294118, 0.5803922 , 0.8980392 ,\n",
              "        0.99215686, 0.99215686, 0.99215686, 0.98039216, 0.7137255 ,\n",
              "        0.        , 0.        , 0.        , 0.        , 0.        ,\n",
              "        0.        , 0.        , 0.        ],\n",
              "       [0.        , 0.        , 0.        , 0.        , 0.        ,\n",
              "        0.        , 0.        , 0.        , 0.        , 0.        ,\n",
              "        0.09411765, 0.44705883, 0.8666667 , 0.99215686, 0.99215686,\n",
              "        0.99215686, 0.99215686, 0.7882353 , 0.30588236, 0.        ,\n",
              "        0.        , 0.        , 0.        , 0.        , 0.        ,\n",
              "        0.        , 0.        , 0.        ],\n",
              "       [0.        , 0.        , 0.        , 0.        , 0.        ,\n",
              "        0.        , 0.        , 0.        , 0.09019608, 0.25882354,\n",
              "        0.8352941 , 0.99215686, 0.99215686, 0.99215686, 0.99215686,\n",
              "        0.7764706 , 0.31764707, 0.00784314, 0.        , 0.        ,\n",
              "        0.        , 0.        , 0.        , 0.        , 0.        ,\n",
              "        0.        , 0.        , 0.        ],\n",
              "       [0.        , 0.        , 0.        , 0.        , 0.        ,\n",
              "        0.        , 0.07058824, 0.67058825, 0.85882354, 0.99215686,\n",
              "        0.99215686, 0.99215686, 0.99215686, 0.7647059 , 0.3137255 ,\n",
              "        0.03529412, 0.        , 0.        , 0.        , 0.        ,\n",
              "        0.        , 0.        , 0.        , 0.        , 0.        ,\n",
              "        0.        , 0.        , 0.        ],\n",
              "       [0.        , 0.        , 0.        , 0.        , 0.21568628,\n",
              "        0.6745098 , 0.8862745 , 0.99215686, 0.99215686, 0.99215686,\n",
              "        0.99215686, 0.95686275, 0.52156866, 0.04313726, 0.        ,\n",
              "        0.        , 0.        , 0.        , 0.        , 0.        ,\n",
              "        0.        , 0.        , 0.        , 0.        , 0.        ,\n",
              "        0.        , 0.        , 0.        ],\n",
              "       [0.        , 0.        , 0.        , 0.        , 0.53333336,\n",
              "        0.99215686, 0.99215686, 0.99215686, 0.83137256, 0.5294118 ,\n",
              "        0.5176471 , 0.0627451 , 0.        , 0.        , 0.        ,\n",
              "        0.        , 0.        , 0.        , 0.        , 0.        ,\n",
              "        0.        , 0.        , 0.        , 0.        , 0.        ,\n",
              "        0.        , 0.        , 0.        ],\n",
              "       [0.        , 0.        , 0.        , 0.        , 0.        ,\n",
              "        0.        , 0.        , 0.        , 0.        , 0.        ,\n",
              "        0.        , 0.        , 0.        , 0.        , 0.        ,\n",
              "        0.        , 0.        , 0.        , 0.        , 0.        ,\n",
              "        0.        , 0.        , 0.        , 0.        , 0.        ,\n",
              "        0.        , 0.        , 0.        ],\n",
              "       [0.        , 0.        , 0.        , 0.        , 0.        ,\n",
              "        0.        , 0.        , 0.        , 0.        , 0.        ,\n",
              "        0.        , 0.        , 0.        , 0.        , 0.        ,\n",
              "        0.        , 0.        , 0.        , 0.        , 0.        ,\n",
              "        0.        , 0.        , 0.        , 0.        , 0.        ,\n",
              "        0.        , 0.        , 0.        ],\n",
              "       [0.        , 0.        , 0.        , 0.        , 0.        ,\n",
              "        0.        , 0.        , 0.        , 0.        , 0.        ,\n",
              "        0.        , 0.        , 0.        , 0.        , 0.        ,\n",
              "        0.        , 0.        , 0.        , 0.        , 0.        ,\n",
              "        0.        , 0.        , 0.        , 0.        , 0.        ,\n",
              "        0.        , 0.        , 0.        ]], dtype=float32)"
            ]
          },
          "metadata": {},
          "execution_count": 88
        }
      ]
    },
    {
      "cell_type": "markdown",
      "source": [
        "### OneHot Encode the y features"
      ],
      "metadata": {
        "id": "OeK5DM8Gt1C0"
      }
    },
    {
      "cell_type": "code",
      "source": [
        "from keras.utils import to_categorical\n",
        "ytrain_cat = to_categorical(ytrain)\n",
        "ytest_cat = to_categorical(ytest)"
      ],
      "metadata": {
        "id": "q9C2cH31tvaE"
      },
      "execution_count": 89,
      "outputs": []
    },
    {
      "cell_type": "code",
      "source": [
        "ytrain[0:5]"
      ],
      "metadata": {
        "colab": {
          "base_uri": "https://localhost:8080/"
        },
        "id": "m5E9RG4nu-Zn",
        "outputId": "26458e79-0872-44ae-83d6-a201a7061bd3"
      },
      "execution_count": 90,
      "outputs": [
        {
          "output_type": "execute_result",
          "data": {
            "text/plain": [
              "array([5, 0, 4, 1, 9], dtype=uint8)"
            ]
          },
          "metadata": {},
          "execution_count": 90
        }
      ]
    },
    {
      "cell_type": "code",
      "source": [
        "ytrain_cat[0:5]"
      ],
      "metadata": {
        "colab": {
          "base_uri": "https://localhost:8080/"
        },
        "id": "CSpJJW-gvBen",
        "outputId": "012a3533-fa47-40b4-f904-cee3d4e02eb4"
      },
      "execution_count": 91,
      "outputs": [
        {
          "output_type": "execute_result",
          "data": {
            "text/plain": [
              "array([[0., 0., 0., 0., 0., 1., 0., 0., 0., 0.],\n",
              "       [1., 0., 0., 0., 0., 0., 0., 0., 0., 0.],\n",
              "       [0., 0., 0., 0., 1., 0., 0., 0., 0., 0.],\n",
              "       [0., 1., 0., 0., 0., 0., 0., 0., 0., 0.],\n",
              "       [0., 0., 0., 0., 0., 0., 0., 0., 0., 1.]])"
            ]
          },
          "metadata": {},
          "execution_count": 91
        }
      ]
    },
    {
      "cell_type": "code",
      "source": [
        "ytest[0:5]"
      ],
      "metadata": {
        "colab": {
          "base_uri": "https://localhost:8080/"
        },
        "id": "ro1ufvsNxOpj",
        "outputId": "a39be1a1-6bf6-4d4f-edd8-0608151ecf6f"
      },
      "execution_count": 92,
      "outputs": [
        {
          "output_type": "execute_result",
          "data": {
            "text/plain": [
              "array([7, 2, 1, 0, 4], dtype=uint8)"
            ]
          },
          "metadata": {},
          "execution_count": 92
        }
      ]
    },
    {
      "cell_type": "code",
      "source": [
        "ytest_cat[0:5]"
      ],
      "metadata": {
        "colab": {
          "base_uri": "https://localhost:8080/"
        },
        "id": "jVPxMUdsxU3a",
        "outputId": "d080d0cd-3317-4922-f8c2-54ab2d9ac27a"
      },
      "execution_count": 93,
      "outputs": [
        {
          "output_type": "execute_result",
          "data": {
            "text/plain": [
              "array([[0., 0., 0., 0., 0., 0., 0., 1., 0., 0.],\n",
              "       [0., 0., 1., 0., 0., 0., 0., 0., 0., 0.],\n",
              "       [0., 1., 0., 0., 0., 0., 0., 0., 0., 0.],\n",
              "       [1., 0., 0., 0., 0., 0., 0., 0., 0., 0.],\n",
              "       [0., 0., 0., 0., 1., 0., 0., 0., 0., 0.]])"
            ]
          },
          "metadata": {},
          "execution_count": 93
        }
      ]
    },
    {
      "cell_type": "code",
      "source": [
        "xtrain.shape"
      ],
      "metadata": {
        "colab": {
          "base_uri": "https://localhost:8080/"
        },
        "id": "JEG_AW4DHpuj",
        "outputId": "26a73cf9-ef27-4fd9-8647-ff5a34d76cbf"
      },
      "execution_count": 94,
      "outputs": [
        {
          "output_type": "execute_result",
          "data": {
            "text/plain": [
              "(60000, 28, 28)"
            ]
          },
          "metadata": {},
          "execution_count": 94
        }
      ]
    },
    {
      "cell_type": "markdown",
      "source": [
        "### Build the neural network\n",
        "\n",
        "Simple Covnet architecture\n",
        "\n",
        "\n",
        "\n",
        "![image.png](data:image/png;base64,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)"
      ],
      "metadata": {
        "id": "aCt4s3Ssxooa"
      }
    },
    {
      "cell_type": "code",
      "source": [
        "from keras.models import Sequential\n",
        "from keras.layers import Input, Conv2D, MaxPooling2D, Flatten, Dense, Dropout"
      ],
      "metadata": {
        "id": "6JIwvsr_xm_f"
      },
      "execution_count": 95,
      "outputs": []
    },
    {
      "cell_type": "code",
      "source": [
        "model = Sequential()\n",
        "\n",
        "# Added Input layer\n",
        "model.add(Input(shape=(28, 28, 1)))\n",
        "\n",
        "# Add Convolution Layer 1\n",
        "model.add(Conv2D(filters=32, kernel_size=(3, 3), activation='relu'))\n",
        "\n",
        "# Add Max pooling 1\n",
        "model.add(MaxPooling2D(pool_size=(2, 2)))\n",
        "\n",
        "# Add Convolution Layer2\n",
        "model.add(Conv2D(filters=64, kernel_size=(3, 3), activation='relu'))\n",
        "\n",
        "# Add Max pooling 2\n",
        "model.add(MaxPooling2D(pool_size=(2, 2)))\n",
        "\n",
        "# Add Flatten Layer\n",
        "model.add(Flatten())\n",
        "\n",
        "# Add Dropout Layer\n",
        "model.add(Dropout(0.5))\n",
        "\n",
        "# Output layer\n",
        "model.add(Dense(ytrain_cat.shape[1], activation='softmax'))"
      ],
      "metadata": {
        "id": "Dtf6aoZqyU-G"
      },
      "execution_count": 96,
      "outputs": []
    },
    {
      "cell_type": "code",
      "source": [
        "model.summary()"
      ],
      "metadata": {
        "colab": {
          "base_uri": "https://localhost:8080/",
          "height": 372
        },
        "id": "qGWWcSkW2Ibz",
        "outputId": "81039a4c-91b6-4b64-9d51-bd1c38f8c9b9"
      },
      "execution_count": 97,
      "outputs": [
        {
          "output_type": "display_data",
          "data": {
            "text/plain": [
              "\u001b[1mModel: \"sequential_3\"\u001b[0m\n"
            ],
            "text/html": [
              "<pre style=\"white-space:pre;overflow-x:auto;line-height:normal;font-family:Menlo,'DejaVu Sans Mono',consolas,'Courier New',monospace\"><span style=\"font-weight: bold\">Model: \"sequential_3\"</span>\n",
              "</pre>\n"
            ]
          },
          "metadata": {}
        },
        {
          "output_type": "display_data",
          "data": {
            "text/plain": [
              "┏━━━━━━━━━━━━━━━━━━━━━━━━━━━━━━━━━━━━━━┳━━━━━━━━━━━━━━━━━━━━━━━━━━━━━┳━━━━━━━━━━━━━━━━━┓\n",
              "┃\u001b[1m \u001b[0m\u001b[1mLayer (type)                        \u001b[0m\u001b[1m \u001b[0m┃\u001b[1m \u001b[0m\u001b[1mOutput Shape               \u001b[0m\u001b[1m \u001b[0m┃\u001b[1m \u001b[0m\u001b[1m        Param #\u001b[0m\u001b[1m \u001b[0m┃\n",
              "┡━━━━━━━━━━━━━━━━━━━━━━━━━━━━━━━━━━━━━━╇━━━━━━━━━━━━━━━━━━━━━━━━━━━━━╇━━━━━━━━━━━━━━━━━┩\n",
              "│ conv2d_2 (\u001b[38;5;33mConv2D\u001b[0m)                    │ (\u001b[38;5;45mNone\u001b[0m, \u001b[38;5;34m26\u001b[0m, \u001b[38;5;34m26\u001b[0m, \u001b[38;5;34m32\u001b[0m)          │             \u001b[38;5;34m320\u001b[0m │\n",
              "├──────────────────────────────────────┼─────────────────────────────┼─────────────────┤\n",
              "│ max_pooling2d_2 (\u001b[38;5;33mMaxPooling2D\u001b[0m)       │ (\u001b[38;5;45mNone\u001b[0m, \u001b[38;5;34m13\u001b[0m, \u001b[38;5;34m13\u001b[0m, \u001b[38;5;34m32\u001b[0m)          │               \u001b[38;5;34m0\u001b[0m │\n",
              "├──────────────────────────────────────┼─────────────────────────────┼─────────────────┤\n",
              "│ conv2d_3 (\u001b[38;5;33mConv2D\u001b[0m)                    │ (\u001b[38;5;45mNone\u001b[0m, \u001b[38;5;34m11\u001b[0m, \u001b[38;5;34m11\u001b[0m, \u001b[38;5;34m64\u001b[0m)          │          \u001b[38;5;34m18,496\u001b[0m │\n",
              "├──────────────────────────────────────┼─────────────────────────────┼─────────────────┤\n",
              "│ max_pooling2d_3 (\u001b[38;5;33mMaxPooling2D\u001b[0m)       │ (\u001b[38;5;45mNone\u001b[0m, \u001b[38;5;34m5\u001b[0m, \u001b[38;5;34m5\u001b[0m, \u001b[38;5;34m64\u001b[0m)            │               \u001b[38;5;34m0\u001b[0m │\n",
              "├──────────────────────────────────────┼─────────────────────────────┼─────────────────┤\n",
              "│ flatten_1 (\u001b[38;5;33mFlatten\u001b[0m)                  │ (\u001b[38;5;45mNone\u001b[0m, \u001b[38;5;34m1600\u001b[0m)                │               \u001b[38;5;34m0\u001b[0m │\n",
              "├──────────────────────────────────────┼─────────────────────────────┼─────────────────┤\n",
              "│ dropout_1 (\u001b[38;5;33mDropout\u001b[0m)                  │ (\u001b[38;5;45mNone\u001b[0m, \u001b[38;5;34m1600\u001b[0m)                │               \u001b[38;5;34m0\u001b[0m │\n",
              "├──────────────────────────────────────┼─────────────────────────────┼─────────────────┤\n",
              "│ dense_1 (\u001b[38;5;33mDense\u001b[0m)                      │ (\u001b[38;5;45mNone\u001b[0m, \u001b[38;5;34m10\u001b[0m)                  │          \u001b[38;5;34m16,010\u001b[0m │\n",
              "└──────────────────────────────────────┴─────────────────────────────┴─────────────────┘\n"
            ],
            "text/html": [
              "<pre style=\"white-space:pre;overflow-x:auto;line-height:normal;font-family:Menlo,'DejaVu Sans Mono',consolas,'Courier New',monospace\">┏━━━━━━━━━━━━━━━━━━━━━━━━━━━━━━━━━━━━━━┳━━━━━━━━━━━━━━━━━━━━━━━━━━━━━┳━━━━━━━━━━━━━━━━━┓\n",
              "┃<span style=\"font-weight: bold\"> Layer (type)                         </span>┃<span style=\"font-weight: bold\"> Output Shape                </span>┃<span style=\"font-weight: bold\">         Param # </span>┃\n",
              "┡━━━━━━━━━━━━━━━━━━━━━━━━━━━━━━━━━━━━━━╇━━━━━━━━━━━━━━━━━━━━━━━━━━━━━╇━━━━━━━━━━━━━━━━━┩\n",
              "│ conv2d_2 (<span style=\"color: #0087ff; text-decoration-color: #0087ff\">Conv2D</span>)                    │ (<span style=\"color: #00d7ff; text-decoration-color: #00d7ff\">None</span>, <span style=\"color: #00af00; text-decoration-color: #00af00\">26</span>, <span style=\"color: #00af00; text-decoration-color: #00af00\">26</span>, <span style=\"color: #00af00; text-decoration-color: #00af00\">32</span>)          │             <span style=\"color: #00af00; text-decoration-color: #00af00\">320</span> │\n",
              "├──────────────────────────────────────┼─────────────────────────────┼─────────────────┤\n",
              "│ max_pooling2d_2 (<span style=\"color: #0087ff; text-decoration-color: #0087ff\">MaxPooling2D</span>)       │ (<span style=\"color: #00d7ff; text-decoration-color: #00d7ff\">None</span>, <span style=\"color: #00af00; text-decoration-color: #00af00\">13</span>, <span style=\"color: #00af00; text-decoration-color: #00af00\">13</span>, <span style=\"color: #00af00; text-decoration-color: #00af00\">32</span>)          │               <span style=\"color: #00af00; text-decoration-color: #00af00\">0</span> │\n",
              "├──────────────────────────────────────┼─────────────────────────────┼─────────────────┤\n",
              "│ conv2d_3 (<span style=\"color: #0087ff; text-decoration-color: #0087ff\">Conv2D</span>)                    │ (<span style=\"color: #00d7ff; text-decoration-color: #00d7ff\">None</span>, <span style=\"color: #00af00; text-decoration-color: #00af00\">11</span>, <span style=\"color: #00af00; text-decoration-color: #00af00\">11</span>, <span style=\"color: #00af00; text-decoration-color: #00af00\">64</span>)          │          <span style=\"color: #00af00; text-decoration-color: #00af00\">18,496</span> │\n",
              "├──────────────────────────────────────┼─────────────────────────────┼─────────────────┤\n",
              "│ max_pooling2d_3 (<span style=\"color: #0087ff; text-decoration-color: #0087ff\">MaxPooling2D</span>)       │ (<span style=\"color: #00d7ff; text-decoration-color: #00d7ff\">None</span>, <span style=\"color: #00af00; text-decoration-color: #00af00\">5</span>, <span style=\"color: #00af00; text-decoration-color: #00af00\">5</span>, <span style=\"color: #00af00; text-decoration-color: #00af00\">64</span>)            │               <span style=\"color: #00af00; text-decoration-color: #00af00\">0</span> │\n",
              "├──────────────────────────────────────┼─────────────────────────────┼─────────────────┤\n",
              "│ flatten_1 (<span style=\"color: #0087ff; text-decoration-color: #0087ff\">Flatten</span>)                  │ (<span style=\"color: #00d7ff; text-decoration-color: #00d7ff\">None</span>, <span style=\"color: #00af00; text-decoration-color: #00af00\">1600</span>)                │               <span style=\"color: #00af00; text-decoration-color: #00af00\">0</span> │\n",
              "├──────────────────────────────────────┼─────────────────────────────┼─────────────────┤\n",
              "│ dropout_1 (<span style=\"color: #0087ff; text-decoration-color: #0087ff\">Dropout</span>)                  │ (<span style=\"color: #00d7ff; text-decoration-color: #00d7ff\">None</span>, <span style=\"color: #00af00; text-decoration-color: #00af00\">1600</span>)                │               <span style=\"color: #00af00; text-decoration-color: #00af00\">0</span> │\n",
              "├──────────────────────────────────────┼─────────────────────────────┼─────────────────┤\n",
              "│ dense_1 (<span style=\"color: #0087ff; text-decoration-color: #0087ff\">Dense</span>)                      │ (<span style=\"color: #00d7ff; text-decoration-color: #00d7ff\">None</span>, <span style=\"color: #00af00; text-decoration-color: #00af00\">10</span>)                  │          <span style=\"color: #00af00; text-decoration-color: #00af00\">16,010</span> │\n",
              "└──────────────────────────────────────┴─────────────────────────────┴─────────────────┘\n",
              "</pre>\n"
            ]
          },
          "metadata": {}
        },
        {
          "output_type": "display_data",
          "data": {
            "text/plain": [
              "\u001b[1m Total params: \u001b[0m\u001b[38;5;34m34,826\u001b[0m (136.04 KB)\n"
            ],
            "text/html": [
              "<pre style=\"white-space:pre;overflow-x:auto;line-height:normal;font-family:Menlo,'DejaVu Sans Mono',consolas,'Courier New',monospace\"><span style=\"font-weight: bold\"> Total params: </span><span style=\"color: #00af00; text-decoration-color: #00af00\">34,826</span> (136.04 KB)\n",
              "</pre>\n"
            ]
          },
          "metadata": {}
        },
        {
          "output_type": "display_data",
          "data": {
            "text/plain": [
              "\u001b[1m Trainable params: \u001b[0m\u001b[38;5;34m34,826\u001b[0m (136.04 KB)\n"
            ],
            "text/html": [
              "<pre style=\"white-space:pre;overflow-x:auto;line-height:normal;font-family:Menlo,'DejaVu Sans Mono',consolas,'Courier New',monospace\"><span style=\"font-weight: bold\"> Trainable params: </span><span style=\"color: #00af00; text-decoration-color: #00af00\">34,826</span> (136.04 KB)\n",
              "</pre>\n"
            ]
          },
          "metadata": {}
        },
        {
          "output_type": "display_data",
          "data": {
            "text/plain": [
              "\u001b[1m Non-trainable params: \u001b[0m\u001b[38;5;34m0\u001b[0m (0.00 B)\n"
            ],
            "text/html": [
              "<pre style=\"white-space:pre;overflow-x:auto;line-height:normal;font-family:Menlo,'DejaVu Sans Mono',consolas,'Courier New',monospace\"><span style=\"font-weight: bold\"> Non-trainable params: </span><span style=\"color: #00af00; text-decoration-color: #00af00\">0</span> (0.00 B)\n",
              "</pre>\n"
            ]
          },
          "metadata": {}
        }
      ]
    },
    {
      "cell_type": "code",
      "source": [
        "model.compile(optimizer='adam', loss='categorical_crossentropy', metrics=['accuracy'])"
      ],
      "metadata": {
        "id": "FHVo_NYh25PT"
      },
      "execution_count": 98,
      "outputs": []
    },
    {
      "cell_type": "code",
      "source": [
        "hist = model.fit(xtrain_scl, ytrain_cat, epochs=15, validation_split=0.1)"
      ],
      "metadata": {
        "colab": {
          "base_uri": "https://localhost:8080/"
        },
        "id": "q3cOkqes3lmx",
        "outputId": "dc87025d-453a-47de-e50a-cce1ef892c99"
      },
      "execution_count": 99,
      "outputs": [
        {
          "output_type": "stream",
          "name": "stdout",
          "text": [
            "Epoch 1/15\n",
            "\u001b[1m1688/1688\u001b[0m \u001b[32m━━━━━━━━━━━━━━━━━━━━\u001b[0m\u001b[37m\u001b[0m \u001b[1m9s\u001b[0m 4ms/step - accuracy: 0.8490 - loss: 0.4757 - val_accuracy: 0.9825 - val_loss: 0.0647\n",
            "Epoch 2/15\n",
            "\u001b[1m1688/1688\u001b[0m \u001b[32m━━━━━━━━━━━━━━━━━━━━\u001b[0m\u001b[37m\u001b[0m \u001b[1m9s\u001b[0m 4ms/step - accuracy: 0.9733 - loss: 0.0888 - val_accuracy: 0.9865 - val_loss: 0.0464\n",
            "Epoch 3/15\n",
            "\u001b[1m1688/1688\u001b[0m \u001b[32m━━━━━━━━━━━━━━━━━━━━\u001b[0m\u001b[37m\u001b[0m \u001b[1m4s\u001b[0m 3ms/step - accuracy: 0.9796 - loss: 0.0693 - val_accuracy: 0.9902 - val_loss: 0.0402\n",
            "Epoch 4/15\n",
            "\u001b[1m1688/1688\u001b[0m \u001b[32m━━━━━━━━━━━━━━━━━━━━\u001b[0m\u001b[37m\u001b[0m \u001b[1m4s\u001b[0m 2ms/step - accuracy: 0.9821 - loss: 0.0573 - val_accuracy: 0.9900 - val_loss: 0.0333\n",
            "Epoch 5/15\n",
            "\u001b[1m1688/1688\u001b[0m \u001b[32m━━━━━━━━━━━━━━━━━━━━\u001b[0m\u001b[37m\u001b[0m \u001b[1m4s\u001b[0m 3ms/step - accuracy: 0.9840 - loss: 0.0485 - val_accuracy: 0.9900 - val_loss: 0.0332\n",
            "Epoch 6/15\n",
            "\u001b[1m1688/1688\u001b[0m \u001b[32m━━━━━━━━━━━━━━━━━━━━\u001b[0m\u001b[37m\u001b[0m \u001b[1m5s\u001b[0m 3ms/step - accuracy: 0.9855 - loss: 0.0432 - val_accuracy: 0.9918 - val_loss: 0.0280\n",
            "Epoch 7/15\n",
            "\u001b[1m1688/1688\u001b[0m \u001b[32m━━━━━━━━━━━━━━━━━━━━\u001b[0m\u001b[37m\u001b[0m \u001b[1m4s\u001b[0m 2ms/step - accuracy: 0.9867 - loss: 0.0418 - val_accuracy: 0.9910 - val_loss: 0.0305\n",
            "Epoch 8/15\n",
            "\u001b[1m1688/1688\u001b[0m \u001b[32m━━━━━━━━━━━━━━━━━━━━\u001b[0m\u001b[37m\u001b[0m \u001b[1m7s\u001b[0m 4ms/step - accuracy: 0.9877 - loss: 0.0375 - val_accuracy: 0.9903 - val_loss: 0.0322\n",
            "Epoch 9/15\n",
            "\u001b[1m1688/1688\u001b[0m \u001b[32m━━━━━━━━━━━━━━━━━━━━\u001b[0m\u001b[37m\u001b[0m \u001b[1m8s\u001b[0m 2ms/step - accuracy: 0.9887 - loss: 0.0350 - val_accuracy: 0.9908 - val_loss: 0.0294\n",
            "Epoch 10/15\n",
            "\u001b[1m1688/1688\u001b[0m \u001b[32m━━━━━━━━━━━━━━━━━━━━\u001b[0m\u001b[37m\u001b[0m \u001b[1m6s\u001b[0m 3ms/step - accuracy: 0.9884 - loss: 0.0361 - val_accuracy: 0.9930 - val_loss: 0.0268\n",
            "Epoch 11/15\n",
            "\u001b[1m1688/1688\u001b[0m \u001b[32m━━━━━━━━━━━━━━━━━━━━\u001b[0m\u001b[37m\u001b[0m \u001b[1m5s\u001b[0m 3ms/step - accuracy: 0.9895 - loss: 0.0298 - val_accuracy: 0.9930 - val_loss: 0.0247\n",
            "Epoch 12/15\n",
            "\u001b[1m1688/1688\u001b[0m \u001b[32m━━━━━━━━━━━━━━━━━━━━\u001b[0m\u001b[37m\u001b[0m \u001b[1m6s\u001b[0m 3ms/step - accuracy: 0.9904 - loss: 0.0297 - val_accuracy: 0.9922 - val_loss: 0.0291\n",
            "Epoch 13/15\n",
            "\u001b[1m1688/1688\u001b[0m \u001b[32m━━━━━━━━━━━━━━━━━━━━\u001b[0m\u001b[37m\u001b[0m \u001b[1m5s\u001b[0m 3ms/step - accuracy: 0.9911 - loss: 0.0275 - val_accuracy: 0.9920 - val_loss: 0.0336\n",
            "Epoch 14/15\n",
            "\u001b[1m1688/1688\u001b[0m \u001b[32m━━━━━━━━━━━━━━━━━━━━\u001b[0m\u001b[37m\u001b[0m \u001b[1m6s\u001b[0m 3ms/step - accuracy: 0.9916 - loss: 0.0271 - val_accuracy: 0.9922 - val_loss: 0.0264\n",
            "Epoch 15/15\n",
            "\u001b[1m1688/1688\u001b[0m \u001b[32m━━━━━━━━━━━━━━━━━━━━\u001b[0m\u001b[37m\u001b[0m \u001b[1m6s\u001b[0m 3ms/step - accuracy: 0.9918 - loss: 0.0242 - val_accuracy: 0.9937 - val_loss: 0.0245\n"
          ]
        }
      ]
    },
    {
      "cell_type": "markdown",
      "source": [
        "### plot the learning curve"
      ],
      "metadata": {
        "id": "BSLwYG2Q4K5j"
      }
    },
    {
      "cell_type": "code",
      "source": [
        "plt.figure(figsize=(10, 5))\n",
        "plt.plot(hist.history['loss'], label='Train Loss')\n",
        "plt.plot(hist.history['val_loss'], label='Validation Loss')\n",
        "plt.title('Learing Curve')\n",
        "plt.ylabel('Categorical Crossentropy loss')\n",
        "plt.xlabel('Epoch')\n",
        "plt.legend()\n",
        "plt.show()"
      ],
      "metadata": {
        "colab": {
          "base_uri": "https://localhost:8080/",
          "height": 487
        },
        "id": "_Tsxz6wr3z-U",
        "outputId": "3b8a47d4-12e0-430b-bd23-c06a9ed9bc7d"
      },
      "execution_count": 100,
      "outputs": [
        {
          "output_type": "display_data",
          "data": {
            "text/plain": [
              "<Figure size 1000x500 with 1 Axes>"
            ],
            "image/png": "[encoded data removed]"
          },
          "metadata": {}
        }
      ]
    },
    {
      "cell_type": "markdown",
      "source": [
        "Evaluate the model in train and test"
      ],
      "metadata": {
        "id": "jut93u6v61aB"
      }
    },
    {
      "cell_type": "code",
      "source": [
        "model.evaluate(xtrain_scl, ytrain_cat)"
      ],
      "metadata": {
        "colab": {
          "base_uri": "https://localhost:8080/"
        },
        "id": "LFiYK2da5eZn",
        "outputId": "d930b5f3-0505-4a0c-971a-f9a3be743cdf"
      },
      "execution_count": 101,
      "outputs": [
        {
          "output_type": "stream",
          "name": "stdout",
          "text": [
            "\u001b[1m1875/1875\u001b[0m \u001b[32m━━━━━━━━━━━━━━━━━━━━\u001b[0m\u001b[37m\u001b[0m \u001b[1m4s\u001b[0m 2ms/step - accuracy: 0.9976 - loss: 0.0079\n"
          ]
        },
        {
          "output_type": "execute_result",
          "data": {
            "text/plain": [
              "[0.009790495969355106, 0.9971333146095276]"
            ]
          },
          "metadata": {},
          "execution_count": 101
        }
      ]
    },
    {
      "cell_type": "code",
      "source": [
        "model.evaluate(xtest_scl, ytest_cat)"
      ],
      "metadata": {
        "colab": {
          "base_uri": "https://localhost:8080/"
        },
        "id": "-PHgLKrF7B41",
        "outputId": "92bacd71-64c5-4367-c45f-99b960b14835"
      },
      "execution_count": 102,
      "outputs": [
        {
          "output_type": "stream",
          "name": "stdout",
          "text": [
            "\u001b[1m313/313\u001b[0m \u001b[32m━━━━━━━━━━━━━━━━━━━━\u001b[0m\u001b[37m\u001b[0m \u001b[1m1s\u001b[0m 4ms/step - accuracy: 0.9918 - loss: 0.0260\n"
          ]
        },
        {
          "output_type": "execute_result",
          "data": {
            "text/plain": [
              "[0.02098521776497364, 0.9937999844551086]"
            ]
          },
          "metadata": {},
          "execution_count": 102
        }
      ]
    },
    {
      "cell_type": "markdown",
      "source": [
        "Predict results for train and test"
      ],
      "metadata": {
        "id": "-ERYya4s7Nzj"
      }
    },
    {
      "cell_type": "code",
      "source": [
        "yprob_train = model.predict(xtrain_scl)\n",
        "yprob_test = model.predict(xtest_scl)"
      ],
      "metadata": {
        "colab": {
          "base_uri": "https://localhost:8080/"
        },
        "id": "ggnJm_2v7KNg",
        "outputId": "7d0b9785-9105-42ab-abc4-7a018333cb26"
      },
      "execution_count": 103,
      "outputs": [
        {
          "output_type": "stream",
          "name": "stdout",
          "text": [
            "\u001b[1m1875/1875\u001b[0m \u001b[32m━━━━━━━━━━━━━━━━━━━━\u001b[0m\u001b[37m\u001b[0m \u001b[1m3s\u001b[0m 1ms/step\n",
            "\u001b[1m313/313\u001b[0m \u001b[32m━━━━━━━━━━━━━━━━━━━━\u001b[0m\u001b[37m\u001b[0m \u001b[1m1s\u001b[0m 2ms/step\n"
          ]
        }
      ]
    },
    {
      "cell_type": "code",
      "source": [
        "yprob_train[0:5]"
      ],
      "metadata": {
        "colab": {
          "base_uri": "https://localhost:8080/"
        },
        "id": "C5aRtKt77i8T",
        "outputId": "8f24d18a-5bd8-4655-ebf6-8b8482480c77"
      },
      "execution_count": 104,
      "outputs": [
        {
          "output_type": "execute_result",
          "data": {
            "text/plain": [
              "array([[1.1773812e-11, 6.2704765e-11, 6.2071503e-10, 2.8196950e-03,\n",
              "        1.3949441e-14, 9.9717975e-01, 2.4607053e-12, 3.2676852e-09,\n",
              "        6.5813857e-08, 4.9139311e-07],\n",
              "       [9.9999988e-01, 6.6737134e-18, 1.3971716e-07, 8.5754532e-13,\n",
              "        5.6180681e-12, 1.5297723e-12, 2.4546567e-08, 1.2081245e-12,\n",
              "        1.8107610e-09, 5.0541239e-08],\n",
              "       [5.2546903e-17, 9.3313490e-10, 6.1931077e-10, 1.6696921e-12,\n",
              "        9.9999964e-01, 1.2806192e-13, 1.3766161e-13, 8.9139526e-08,\n",
              "        5.0950794e-10, 2.8726822e-07],\n",
              "       [2.5796759e-08, 9.9997497e-01, 3.6327087e-06, 6.7509491e-11,\n",
              "        6.1169076e-06, 1.1265938e-09, 1.4289600e-07, 6.8345457e-06,\n",
              "        8.4338244e-06, 4.4294318e-08],\n",
              "       [4.4047079e-12, 1.5735740e-10, 1.2039363e-09, 1.1299972e-09,\n",
              "        4.0204188e-05, 2.7186937e-11, 3.8398877e-14, 3.7920806e-08,\n",
              "        4.7739627e-06, 9.9995494e-01]], dtype=float32)"
            ]
          },
          "metadata": {},
          "execution_count": 104
        }
      ]
    },
    {
      "cell_type": "code",
      "source": [
        "yprob_test[0:5]"
      ],
      "metadata": {
        "colab": {
          "base_uri": "https://localhost:8080/"
        },
        "id": "awMSg3zS7tUz",
        "outputId": "42312cad-db61-4ac0-b2ff-fd05d290c68a"
      },
      "execution_count": 105,
      "outputs": [
        {
          "output_type": "execute_result",
          "data": {
            "text/plain": [
              "array([[1.3946302e-10, 1.2715171e-10, 1.0699904e-05, 1.4373531e-07,\n",
              "        8.7743621e-14, 1.5207895e-12, 1.3016556e-17, 9.9998903e-01,\n",
              "        1.3181027e-09, 6.9654092e-08],\n",
              "       [2.8134185e-08, 7.0773289e-09, 9.9999964e-01, 9.2881824e-10,\n",
              "        2.9102374e-12, 1.4338391e-14, 3.2838085e-07, 1.8645571e-15,\n",
              "        4.0424903e-09, 4.2327808e-15],\n",
              "       [2.9670659e-09, 9.9993539e-01, 4.2970885e-07, 1.5230789e-09,\n",
              "        5.3228261e-05, 1.5566194e-08, 1.4746695e-07, 1.9350819e-06,\n",
              "        8.8740589e-06, 3.9690875e-08],\n",
              "       [9.9985683e-01, 1.4001357e-14, 6.4407340e-07, 5.9003608e-10,\n",
              "        7.2957529e-09, 1.5927153e-08, 1.3999866e-04, 4.3269249e-11,\n",
              "        1.8110021e-06, 7.2174146e-07],\n",
              "       [2.2711518e-12, 8.0292603e-13, 7.4008568e-12, 6.7095877e-15,\n",
              "        9.9998450e-01, 1.0044318e-13, 2.8385525e-12, 2.4809490e-12,\n",
              "        4.4360468e-10, 1.5460073e-05]], dtype=float32)"
            ]
          },
          "metadata": {},
          "execution_count": 105
        }
      ]
    },
    {
      "cell_type": "code",
      "source": [
        "import numpy as np\n",
        "ypred_train = np.argmax(yprob_train, axis=1)\n",
        "ypred_test = np.argmax(yprob_test, axis=1)"
      ],
      "metadata": {
        "id": "HWuSrhMi70qa"
      },
      "execution_count": 106,
      "outputs": []
    },
    {
      "cell_type": "code",
      "source": [
        "ypred_train[0:5]"
      ],
      "metadata": {
        "colab": {
          "base_uri": "https://localhost:8080/"
        },
        "id": "ePmoKGALFOL7",
        "outputId": "fbf46576-4a36-4a2e-e454-7130e100a21c"
      },
      "execution_count": 107,
      "outputs": [
        {
          "output_type": "execute_result",
          "data": {
            "text/plain": [
              "array([5, 0, 4, 1, 9])"
            ]
          },
          "metadata": {},
          "execution_count": 107
        }
      ]
    },
    {
      "cell_type": "code",
      "source": [
        "ytrain[0:5]"
      ],
      "metadata": {
        "colab": {
          "base_uri": "https://localhost:8080/"
        },
        "id": "kUQDMjvnFSzY",
        "outputId": "28bc43f4-cfa5-4a74-d343-4abdf534a060"
      },
      "execution_count": 108,
      "outputs": [
        {
          "output_type": "execute_result",
          "data": {
            "text/plain": [
              "array([5, 0, 4, 1, 9], dtype=uint8)"
            ]
          },
          "metadata": {},
          "execution_count": 108
        }
      ]
    },
    {
      "cell_type": "code",
      "source": [
        "ypred_test[0:5]"
      ],
      "metadata": {
        "colab": {
          "base_uri": "https://localhost:8080/"
        },
        "id": "EglfRHT_FXOv",
        "outputId": "b08c1bfa-7e2c-4118-d6cd-32fa20870671"
      },
      "execution_count": 109,
      "outputs": [
        {
          "output_type": "execute_result",
          "data": {
            "text/plain": [
              "array([7, 2, 1, 0, 4])"
            ]
          },
          "metadata": {},
          "execution_count": 109
        }
      ]
    },
    {
      "cell_type": "code",
      "source": [
        "ytest[0:5]"
      ],
      "metadata": {
        "colab": {
          "base_uri": "https://localhost:8080/"
        },
        "id": "GJrtNE5pFliL",
        "outputId": "557c48f8-d585-4ab9-fc43-b78f8acf22fa"
      },
      "execution_count": 110,
      "outputs": [
        {
          "output_type": "execute_result",
          "data": {
            "text/plain": [
              "array([7, 2, 1, 0, 4], dtype=uint8)"
            ]
          },
          "metadata": {},
          "execution_count": 110
        }
      ]
    },
    {
      "cell_type": "markdown",
      "source": [
        "### Plot the confusion matrix"
      ],
      "metadata": {
        "id": "OAutsvBFF0FF"
      }
    },
    {
      "cell_type": "code",
      "source": [
        "from sklearn.metrics import ConfusionMatrixDisplay\n",
        "ConfusionMatrixDisplay.from_predictions(ytest, ypred_test)"
      ],
      "metadata": {
        "colab": {
          "base_uri": "https://localhost:8080/",
          "height": 467
        },
        "id": "Ts3FQpOFFzHD",
        "outputId": "39f4bd07-8fee-42e8-cd21-82ab45bebbde"
      },
      "execution_count": 111,
      "outputs": [
        {
          "output_type": "execute_result",
          "data": {
            "text/plain": [
              "<sklearn.metrics._plot.confusion_matrix.ConfusionMatrixDisplay at 0x77fd34007e20>"
            ]
          },
          "metadata": {},
          "execution_count": 111
        },
        {
          "output_type": "display_data",
          "data": {
            "text/plain": [
              "<Figure size 640x480 with 2 Axes>"
            ],
            "image/png": "[encoded data removed]"
          },
          "metadata": {}
        }
      ]
    },
    {
      "cell_type": "code",
      "source": [
        "from sklearn.metrics import classification_report\n",
        "print(classification_report(ytest, ypred_test))"
      ],
      "metadata": {
        "colab": {
          "base_uri": "https://localhost:8080/"
        },
        "id": "_CjmvpcNGEYM",
        "outputId": "bfa8baad-8459-4ea2-d502-aab2c4aefb94"
      },
      "execution_count": 112,
      "outputs": [
        {
          "output_type": "stream",
          "name": "stdout",
          "text": [
            "              precision    recall  f1-score   support\n",
            "\n",
            "           0       1.00      1.00      1.00       980\n",
            "           1       1.00      1.00      1.00      1135\n",
            "           2       0.99      1.00      0.99      1032\n",
            "           3       0.99      0.99      0.99      1010\n",
            "           4       0.99      0.99      0.99       982\n",
            "           5       0.99      0.99      0.99       892\n",
            "           6       1.00      0.99      0.99       958\n",
            "           7       1.00      0.99      0.99      1028\n",
            "           8       0.99      0.99      0.99       974\n",
            "           9       0.99      0.99      0.99      1009\n",
            "\n",
            "    accuracy                           0.99     10000\n",
            "   macro avg       0.99      0.99      0.99     10000\n",
            "weighted avg       0.99      0.99      0.99     10000\n",
            "\n"
          ]
        }
      ]
    },
    {
      "cell_type": "markdown",
      "source": [
        "### Save above model for future use"
      ],
      "metadata": {
        "id": "2GAtrMl7JEaV"
      }
    },
    {
      "cell_type": "code",
      "source": [
        "model.save('digit_model.keras')"
      ],
      "metadata": {
        "id": "VtnUmmdBJC1d"
      },
      "execution_count": 113,
      "outputs": []
    },
    {
      "cell_type": "markdown",
      "source": [
        "Load above model"
      ],
      "metadata": {
        "id": "dLmriUOKJRoh"
      }
    },
    {
      "cell_type": "code",
      "source": [
        "from keras.models import load_model\n",
        "nn = load_model('/content/digit_model.keras')\n",
        "nn.summary()"
      ],
      "metadata": {
        "colab": {
          "base_uri": "https://localhost:8080/",
          "height": 389
        },
        "id": "WKWavn1lJQRO",
        "outputId": "c946f2d9-4de1-4900-c027-d58f21ff23cc"
      },
      "execution_count": 115,
      "outputs": [
        {
          "output_type": "display_data",
          "data": {
            "text/plain": [
              "\u001b[1mModel: \"sequential_3\"\u001b[0m\n"
            ],
            "text/html": [
              "<pre style=\"white-space:pre;overflow-x:auto;line-height:normal;font-family:Menlo,'DejaVu Sans Mono',consolas,'Courier New',monospace\"><span style=\"font-weight: bold\">Model: \"sequential_3\"</span>\n",
              "</pre>\n"
            ]
          },
          "metadata": {}
        },
        {
          "output_type": "display_data",
          "data": {
            "text/plain": [
              "┏━━━━━━━━━━━━━━━━━━━━━━━━━━━━━━━━━━━━━━┳━━━━━━━━━━━━━━━━━━━━━━━━━━━━━┳━━━━━━━━━━━━━━━━━┓\n",
              "┃\u001b[1m \u001b[0m\u001b[1mLayer (type)                        \u001b[0m\u001b[1m \u001b[0m┃\u001b[1m \u001b[0m\u001b[1mOutput Shape               \u001b[0m\u001b[1m \u001b[0m┃\u001b[1m \u001b[0m\u001b[1m        Param #\u001b[0m\u001b[1m \u001b[0m┃\n",
              "┡━━━━━━━━━━━━━━━━━━━━━━━━━━━━━━━━━━━━━━╇━━━━━━━━━━━━━━━━━━━━━━━━━━━━━╇━━━━━━━━━━━━━━━━━┩\n",
              "│ conv2d_2 (\u001b[38;5;33mConv2D\u001b[0m)                    │ (\u001b[38;5;45mNone\u001b[0m, \u001b[38;5;34m26\u001b[0m, \u001b[38;5;34m26\u001b[0m, \u001b[38;5;34m32\u001b[0m)          │             \u001b[38;5;34m320\u001b[0m │\n",
              "├──────────────────────────────────────┼─────────────────────────────┼─────────────────┤\n",
              "│ max_pooling2d_2 (\u001b[38;5;33mMaxPooling2D\u001b[0m)       │ (\u001b[38;5;45mNone\u001b[0m, \u001b[38;5;34m13\u001b[0m, \u001b[38;5;34m13\u001b[0m, \u001b[38;5;34m32\u001b[0m)          │               \u001b[38;5;34m0\u001b[0m │\n",
              "├──────────────────────────────────────┼─────────────────────────────┼─────────────────┤\n",
              "│ conv2d_3 (\u001b[38;5;33mConv2D\u001b[0m)                    │ (\u001b[38;5;45mNone\u001b[0m, \u001b[38;5;34m11\u001b[0m, \u001b[38;5;34m11\u001b[0m, \u001b[38;5;34m64\u001b[0m)          │          \u001b[38;5;34m18,496\u001b[0m │\n",
              "├──────────────────────────────────────┼─────────────────────────────┼─────────────────┤\n",
              "│ max_pooling2d_3 (\u001b[38;5;33mMaxPooling2D\u001b[0m)       │ (\u001b[38;5;45mNone\u001b[0m, \u001b[38;5;34m5\u001b[0m, \u001b[38;5;34m5\u001b[0m, \u001b[38;5;34m64\u001b[0m)            │               \u001b[38;5;34m0\u001b[0m │\n",
              "├──────────────────────────────────────┼─────────────────────────────┼─────────────────┤\n",
              "│ flatten_1 (\u001b[38;5;33mFlatten\u001b[0m)                  │ (\u001b[38;5;45mNone\u001b[0m, \u001b[38;5;34m1600\u001b[0m)                │               \u001b[38;5;34m0\u001b[0m │\n",
              "├──────────────────────────────────────┼─────────────────────────────┼─────────────────┤\n",
              "│ dropout_1 (\u001b[38;5;33mDropout\u001b[0m)                  │ (\u001b[38;5;45mNone\u001b[0m, \u001b[38;5;34m1600\u001b[0m)                │               \u001b[38;5;34m0\u001b[0m │\n",
              "├──────────────────────────────────────┼─────────────────────────────┼─────────────────┤\n",
              "│ dense_1 (\u001b[38;5;33mDense\u001b[0m)                      │ (\u001b[38;5;45mNone\u001b[0m, \u001b[38;5;34m10\u001b[0m)                  │          \u001b[38;5;34m16,010\u001b[0m │\n",
              "└──────────────────────────────────────┴─────────────────────────────┴─────────────────┘\n"
            ],
            "text/html": [
              "<pre style=\"white-space:pre;overflow-x:auto;line-height:normal;font-family:Menlo,'DejaVu Sans Mono',consolas,'Courier New',monospace\">┏━━━━━━━━━━━━━━━━━━━━━━━━━━━━━━━━━━━━━━┳━━━━━━━━━━━━━━━━━━━━━━━━━━━━━┳━━━━━━━━━━━━━━━━━┓\n",
              "┃<span style=\"font-weight: bold\"> Layer (type)                         </span>┃<span style=\"font-weight: bold\"> Output Shape                </span>┃<span style=\"font-weight: bold\">         Param # </span>┃\n",
              "┡━━━━━━━━━━━━━━━━━━━━━━━━━━━━━━━━━━━━━━╇━━━━━━━━━━━━━━━━━━━━━━━━━━━━━╇━━━━━━━━━━━━━━━━━┩\n",
              "│ conv2d_2 (<span style=\"color: #0087ff; text-decoration-color: #0087ff\">Conv2D</span>)                    │ (<span style=\"color: #00d7ff; text-decoration-color: #00d7ff\">None</span>, <span style=\"color: #00af00; text-decoration-color: #00af00\">26</span>, <span style=\"color: #00af00; text-decoration-color: #00af00\">26</span>, <span style=\"color: #00af00; text-decoration-color: #00af00\">32</span>)          │             <span style=\"color: #00af00; text-decoration-color: #00af00\">320</span> │\n",
              "├──────────────────────────────────────┼─────────────────────────────┼─────────────────┤\n",
              "│ max_pooling2d_2 (<span style=\"color: #0087ff; text-decoration-color: #0087ff\">MaxPooling2D</span>)       │ (<span style=\"color: #00d7ff; text-decoration-color: #00d7ff\">None</span>, <span style=\"color: #00af00; text-decoration-color: #00af00\">13</span>, <span style=\"color: #00af00; text-decoration-color: #00af00\">13</span>, <span style=\"color: #00af00; text-decoration-color: #00af00\">32</span>)          │               <span style=\"color: #00af00; text-decoration-color: #00af00\">0</span> │\n",
              "├──────────────────────────────────────┼─────────────────────────────┼─────────────────┤\n",
              "│ conv2d_3 (<span style=\"color: #0087ff; text-decoration-color: #0087ff\">Conv2D</span>)                    │ (<span style=\"color: #00d7ff; text-decoration-color: #00d7ff\">None</span>, <span style=\"color: #00af00; text-decoration-color: #00af00\">11</span>, <span style=\"color: #00af00; text-decoration-color: #00af00\">11</span>, <span style=\"color: #00af00; text-decoration-color: #00af00\">64</span>)          │          <span style=\"color: #00af00; text-decoration-color: #00af00\">18,496</span> │\n",
              "├──────────────────────────────────────┼─────────────────────────────┼─────────────────┤\n",
              "│ max_pooling2d_3 (<span style=\"color: #0087ff; text-decoration-color: #0087ff\">MaxPooling2D</span>)       │ (<span style=\"color: #00d7ff; text-decoration-color: #00d7ff\">None</span>, <span style=\"color: #00af00; text-decoration-color: #00af00\">5</span>, <span style=\"color: #00af00; text-decoration-color: #00af00\">5</span>, <span style=\"color: #00af00; text-decoration-color: #00af00\">64</span>)            │               <span style=\"color: #00af00; text-decoration-color: #00af00\">0</span> │\n",
              "├──────────────────────────────────────┼─────────────────────────────┼─────────────────┤\n",
              "│ flatten_1 (<span style=\"color: #0087ff; text-decoration-color: #0087ff\">Flatten</span>)                  │ (<span style=\"color: #00d7ff; text-decoration-color: #00d7ff\">None</span>, <span style=\"color: #00af00; text-decoration-color: #00af00\">1600</span>)                │               <span style=\"color: #00af00; text-decoration-color: #00af00\">0</span> │\n",
              "├──────────────────────────────────────┼─────────────────────────────┼─────────────────┤\n",
              "│ dropout_1 (<span style=\"color: #0087ff; text-decoration-color: #0087ff\">Dropout</span>)                  │ (<span style=\"color: #00d7ff; text-decoration-color: #00d7ff\">None</span>, <span style=\"color: #00af00; text-decoration-color: #00af00\">1600</span>)                │               <span style=\"color: #00af00; text-decoration-color: #00af00\">0</span> │\n",
              "├──────────────────────────────────────┼─────────────────────────────┼─────────────────┤\n",
              "│ dense_1 (<span style=\"color: #0087ff; text-decoration-color: #0087ff\">Dense</span>)                      │ (<span style=\"color: #00d7ff; text-decoration-color: #00d7ff\">None</span>, <span style=\"color: #00af00; text-decoration-color: #00af00\">10</span>)                  │          <span style=\"color: #00af00; text-decoration-color: #00af00\">16,010</span> │\n",
              "└──────────────────────────────────────┴─────────────────────────────┴─────────────────┘\n",
              "</pre>\n"
            ]
          },
          "metadata": {}
        },
        {
          "output_type": "display_data",
          "data": {
            "text/plain": [
              "\u001b[1m Total params: \u001b[0m\u001b[38;5;34m104,480\u001b[0m (408.13 KB)\n"
            ],
            "text/html": [
              "<pre style=\"white-space:pre;overflow-x:auto;line-height:normal;font-family:Menlo,'DejaVu Sans Mono',consolas,'Courier New',monospace\"><span style=\"font-weight: bold\"> Total params: </span><span style=\"color: #00af00; text-decoration-color: #00af00\">104,480</span> (408.13 KB)\n",
              "</pre>\n"
            ]
          },
          "metadata": {}
        },
        {
          "output_type": "display_data",
          "data": {
            "text/plain": [
              "\u001b[1m Trainable params: \u001b[0m\u001b[38;5;34m34,826\u001b[0m (136.04 KB)\n"
            ],
            "text/html": [
              "<pre style=\"white-space:pre;overflow-x:auto;line-height:normal;font-family:Menlo,'DejaVu Sans Mono',consolas,'Courier New',monospace\"><span style=\"font-weight: bold\"> Trainable params: </span><span style=\"color: #00af00; text-decoration-color: #00af00\">34,826</span> (136.04 KB)\n",
              "</pre>\n"
            ]
          },
          "metadata": {}
        },
        {
          "output_type": "display_data",
          "data": {
            "text/plain": [
              "\u001b[1m Non-trainable params: \u001b[0m\u001b[38;5;34m0\u001b[0m (0.00 B)\n"
            ],
            "text/html": [
              "<pre style=\"white-space:pre;overflow-x:auto;line-height:normal;font-family:Menlo,'DejaVu Sans Mono',consolas,'Courier New',monospace\"><span style=\"font-weight: bold\"> Non-trainable params: </span><span style=\"color: #00af00; text-decoration-color: #00af00\">0</span> (0.00 B)\n",
              "</pre>\n"
            ]
          },
          "metadata": {}
        },
        {
          "output_type": "display_data",
          "data": {
            "text/plain": [
              "\u001b[1m Optimizer params: \u001b[0m\u001b[38;5;34m69,654\u001b[0m (272.09 KB)\n"
            ],
            "text/html": [
              "<pre style=\"white-space:pre;overflow-x:auto;line-height:normal;font-family:Menlo,'DejaVu Sans Mono',consolas,'Courier New',monospace\"><span style=\"font-weight: bold\"> Optimizer params: </span><span style=\"color: #00af00; text-decoration-color: #00af00\">69,654</span> (272.09 KB)\n",
              "</pre>\n"
            ]
          },
          "metadata": {}
        }
      ]
    },
    {
      "cell_type": "code",
      "source": [
        "# Loading the image\n",
        "import cv2\n",
        "img = cv2.imread('/content/example_img.jpg', cv2.IMREAD_GRAYSCALE)\n",
        "img"
      ],
      "metadata": {
        "colab": {
          "base_uri": "https://localhost:8080/",
          "height": 68
        },
        "id": "9zvVgdFVJgr7",
        "outputId": "797c8128-76a4-40e8-84cd-bcb2223cc98e"
      },
      "execution_count": 117,
      "outputs": [
        {
          "output_type": "execute_result",
          "data": {
            "text/plain": [
              "array([[  1,   1,   0,   1,   0,   0,   2,   0,   2,   0,   0,   2,   0,\n",
              "          0,   2,   1,   1,   0,   0,   0,   3,   0,   0,   1,   0,   0,\n",
              "          0,   0],\n",
              "       [  0,   0,   0,   0,   3,   2,   0,   1,   0,   3,   3,   0,   0,\n",
              "          0,   0,   0,   0,   4,   0,   2,   2,   0,   1,   0,   0,   0,\n",
              "          0,   0],\n",
              "       [  1,   2,   1,   1,   0,   0,   4,   0,   0,   0,   0,   0,   2,\n",
              "          0,   0,   5,   2,   0,   0,   0,   0,   5,   3,   0,   0,   0,\n",
              "          0,   0],\n",
              "       [  0,   0,   1,   0,   2,   2,   0,   2,   0,   1,   1,   0,   0,\n",
              "          1,   0,   0,   0,   6,   0,   2,   0,   0,   0,   0,   0,   0,\n",
              "          0,   0],\n",
              "       [  0,   1,   5,   0,  75, 224, 253, 254, 255, 252, 253, 255, 255,\n",
              "        255, 255, 253, 254, 220, 105,   0,   4,   0,   0,   2,   0,   0,\n",
              "          0,   0],\n",
              "       [  2,   0,   0,   3, 221, 253, 255, 255, 255, 255, 255, 255, 253,\n",
              "        254, 255, 255, 254, 255, 255, 255, 216, 125,   0,   0,   0,   0,\n",
              "          0,   0],\n",
              "       [  0,   0,   0,   0, 123, 253, 255, 254, 254, 255, 253, 253, 255,\n",
              "        255, 252, 253, 255, 255, 255, 254, 255, 254,   0,   1,   0,   0,\n",
              "          0,   0],\n",
              "       [  0,   2,   2,   0,   3,   1,   0,   2,   1,   1,   0,   2,   0,\n",
              "          3,  96, 224, 254, 255, 254, 255, 254, 171,   2,   0,   0,   0,\n",
              "          0,   0],\n",
              "       [  1,   0,   2,   0,   0,   0,   0,   0,   0,   1,   0,   0,  95,\n",
              "        223, 255, 253, 252, 255, 253, 255, 166,  11,   0,   1,   0,   0,\n",
              "          0,   0],\n",
              "       [  0,   0,   0,   0,   0,   2,   0,   0,   2,   0,   0, 132, 253,\n",
              "        253, 255, 255, 255, 255, 165,   8,   4,   0,   0,   1,   0,   0,\n",
              "          0,   0],\n",
              "       [  0,   0,   0,   0,   2,   0,   0,   0,  71, 222, 255, 248, 255,\n",
              "        255, 253, 169,   8,   0,   0,   6,   0,   0,   0,   0,   0,   0,\n",
              "          0,   0],\n",
              "       [  1,   0,   3,   1,   0,   3,   3,  69, 237, 255, 255, 254, 254,\n",
              "        255, 224,  94,   2,   2,   0,   0,   2,   0,   2,   0,   0,   0,\n",
              "          0,   0],\n",
              "       [  1,   1,   0,   1,   1,   0,   0, 225, 254, 251, 255, 253, 255,\n",
              "        255, 249, 255, 219,  96,   2,   0,   1,   0,   2,   0,   0,   0,\n",
              "          0,   0],\n",
              "       [  1,   0,   1,   0,   0,   2,   0, 120, 255, 254, 254, 253, 252,\n",
              "        255, 255, 254, 255, 243, 103,   0,   0,   5,   0,   3,   0,   0,\n",
              "          0,   0],\n",
              "       [  0,   1,   0,   0,   2,   0,   1,   0,   1,   1,   0,   5,   3,\n",
              "        118, 255, 253, 250, 255, 255, 221,  95,   0,   2,   0,   0,   0,\n",
              "          0,   0],\n",
              "       [  0,   0,   0,   4,   0,   1,   0,   1,   0,   0,   3,   0,   3,\n",
              "          0,   0, 121, 255, 255, 252, 255, 248,   0,   0,   1,   0,   0,\n",
              "          0,   0],\n",
              "       [  0,   0,   4,   0,   0,   1,   0,   1,   1,   1,   0,   0,   0,\n",
              "          2,   0,   1,  10, 155, 255, 255, 250,   3,   1,   0,   0,   0,\n",
              "          0,   0],\n",
              "       [  1,   0,   0,   0,   2,   0,   1,   0,   0,   0,   2,   2,   0,\n",
              "          0,   0,   0,   0,   2, 255, 254, 255,   0,   0,   4,   0,   0,\n",
              "          0,   0],\n",
              "       [  0,   3,   2,   0,   1,   2,   3,   0,   1,   0,   0,   1,   0,\n",
              "          0,   3,   2,   2,   0, 254, 255, 254,   2,   2,   0,   0,   0,\n",
              "          0,   0],\n",
              "       [  0,   0,   0,   6,   0,   0,   0,   1,   0,   2,   0,   2,   0,\n",
              "          3,   0,   0,   0,   1, 254, 255, 252,   3,   0,   2,   0,   0,\n",
              "          0,   0],\n",
              "       [  4,   0,   2,   0,   0,   3,  75, 221, 223,  96,   0,   2,   0,\n",
              "          0,   0,   6,   0, 125, 254, 255, 255,   0,   1,   0,   0,   0,\n",
              "          0,   0],\n",
              "       [  0,   5,   1,   0,   0,   1, 216, 255, 255, 243,  98,   0,   2,\n",
              "          2,   0,  72, 224, 255, 255, 255, 166,   0,   4,   0,   0,   0,\n",
              "          0,   0],\n",
              "       [  0,   0,   0,   5,   2,   1, 126, 253, 255, 254, 255, 255, 255,\n",
              "        255, 255, 255, 255, 255, 253, 183,   9,   1,   0,   0,   0,   0,\n",
              "          0,   0],\n",
              "       [  3,   0,   3,   0,   2,   0,   3, 120, 255, 253, 255, 254, 254,\n",
              "        253, 255, 253, 254, 255, 167,   8,   2,   0,   0,   2,   0,   0,\n",
              "          0,   0],\n",
              "       [  0,   0,   0,   0,   0,   0,   0,   0, 121, 253, 255, 254, 252,\n",
              "        255, 251, 255, 255, 147,   2,   0,   0,   2,   2,   0,   0,   0,\n",
              "          0,   0],\n",
              "       [  0,   0,   0,   0,   0,   0,   0,   0,   0,   7,   0,   2,   1,\n",
              "          0,   0,   0,   0,   3,   0,   1,   0,   0,   0,   0,   0,   0,\n",
              "          0,   0],\n",
              "       [  0,   0,   0,   0,   0,   0,   0,   0,   1,   0,   1,   0,   0,\n",
              "          2,   2,   0,   3,   0,   5,   0,   3,   3,   0,   2,   0,   0,\n",
              "          0,   0],\n",
              "       [  0,   0,   0,   0,   0,   0,   0,   0,   1,   7,   1,   0,   0,\n",
              "          0,   0,   2,   0,   0,   0,   0,   0,   0,   0,   3,   0,   0,\n",
              "          0,   0]], dtype=uint8)"
            ],
            "text/html": [
              "<style>\n",
              "      .ndarray_repr .ndarray_raw_data {\n",
              "        display: none;\n",
              "      }\n",
              "      .ndarray_repr.show_array .ndarray_raw_data {\n",
              "        display: block;\n",
              "      }\n",
              "      .ndarray_repr.show_array .ndarray_image_preview {\n",
              "        display: none;\n",
              "      }\n",
              "      </style>\n",
              "      <div id=\"id-b303dd79-3923-460b-b896-3c8cdc8cdfeb\" class=\"ndarray_repr\"><pre>ndarray (28, 28) <button style=\"padding: 0 2px;\">show data</button></pre><img src=\"data:image/png;base64,iVBORw0KGgoAAAANSUhEUgAAABwAAAAcCAAAAABXZoBIAAABbklEQVR4nF2SPW5UQRCEv65+b73AuRBIvgNekSAugGwhE3EDQmKMEAfgKpZg8XIAIifGftNF8P5W7mhGPVVdXTVEECAEAkUACcFcKYLM8dIhzb1QBHQACHoB9DnjAgkRMZJt0EJJ9JweWnlott3q11s6pgeC3Dd77Nhl+/pyxfK+ucqteYSXa1YkkYEiELk7lMv1XYuc+cDZjdvg5qtnR3tODnxszba/bLtjEwS8+O07u33bwmbdhAwyn/+1q3x4JU1mAkQQAX/qwc3+5587HesIEOeuaoNdvn0DPbmoFEEEfb5zu7f3Z0cOdiM8SbiwB9+tajsIIgIQ8fSzfZ+xsDLmp8lsl+cMSRFKxsBSolxaZ24mF0UCUR5yUtQhyNP9zQ4BGy7LXvT0AXFt375G4uXB9tU8EugVH5rLU7UfT2Zgkog8d3NVcyt/3YrjfwRcNNfgB/uTlq3WOkExUgWPawxAJD2Zj2jjJGCdlQD/AQpQsvLcABwNAAAAAElFTkSuQmCC\" class=\"ndarray_image_preview\" /><pre class=\"ndarray_raw_data\">array([[  1,   1,   0,   1,   0,   0,   2,   0,   2,   0,   0,   2,   0,\n",
              "          0,   2,   1,   1,   0,   0,   0,   3,   0,   0,   1,   0,   0,\n",
              "          0,   0],\n",
              "       [  0,   0,   0,   0,   3,   2,   0,   1,   0,   3,   3,   0,   0,\n",
              "          0,   0,   0,   0,   4,   0,   2,   2,   0,   1,   0,   0,   0,\n",
              "          0,   0],\n",
              "       [  1,   2,   1,   1,   0,   0,   4,   0,   0,   0,   0,   0,   2,\n",
              "          0,   0,   5,   2,   0,   0,   0,   0,   5,   3,   0,   0,   0,\n",
              "          0,   0],\n",
              "       [  0,   0,   1,   0,   2,   2,   0,   2,   0,   1,   1,   0,   0,\n",
              "          1,   0,   0,   0,   6,   0,   2,   0,   0,   0,   0,   0,   0,\n",
              "          0,   0],\n",
              "       [  0,   1,   5,   0,  75, 224, 253, 254, 255, 252, 253, 255, 255,\n",
              "        255, 255, 253, 254, 220, 105,   0,   4,   0,   0,   2,   0,   0,\n",
              "          0,   0],\n",
              "       [  2,   0,   0,   3, 221, 253, 255, 255, 255, 255, 255, 255, 253,\n",
              "        254, 255, 255, 254, 255, 255, 255, 216, 125,   0,   0,   0,   0,\n",
              "          0,   0],\n",
              "       [  0,   0,   0,   0, 123, 253, 255, 254, 254, 255, 253, 253, 255,\n",
              "        255, 252, 253, 255, 255, 255, 254, 255, 254,   0,   1,   0,   0,\n",
              "          0,   0],\n",
              "       [  0,   2,   2,   0,   3,   1,   0,   2,   1,   1,   0,   2,   0,\n",
              "          3,  96, 224, 254, 255, 254, 255, 254, 171,   2,   0,   0,   0,\n",
              "          0,   0],\n",
              "       [  1,   0,   2,   0,   0,   0,   0,   0,   0,   1,   0,   0,  95,\n",
              "        223, 255, 253, 252, 255, 253, 255, 166,  11,   0,   1,   0,   0,\n",
              "          0,   0],\n",
              "       [  0,   0,   0,   0,   0,   2,   0,   0,   2,   0,   0, 132, 253,\n",
              "        253, 255, 255, 255, 255, 165,   8,   4,   0,   0,   1,   0,   0,\n",
              "          0,   0],\n",
              "       [  0,   0,   0,   0,   2,   0,   0,   0,  71, 222, 255, 248, 255,\n",
              "        255, 253, 169,   8,   0,   0,   6,   0,   0,   0,   0,   0,   0,\n",
              "          0,   0],\n",
              "       [  1,   0,   3,   1,   0,   3,   3,  69, 237, 255, 255, 254, 254,\n",
              "        255, 224,  94,   2,   2,   0,   0,   2,   0,   2,   0,   0,   0,\n",
              "          0,   0],\n",
              "       [  1,   1,   0,   1,   1,   0,   0, 225, 254, 251, 255, 253, 255,\n",
              "        255, 249, 255, 219,  96,   2,   0,   1,   0,   2,   0,   0,   0,\n",
              "          0,   0],\n",
              "       [  1,   0,   1,   0,   0,   2,   0, 120, 255, 254, 254, 253, 252,\n",
              "        255, 255, 254, 255, 243, 103,   0,   0,   5,   0,   3,   0,   0,\n",
              "          0,   0],\n",
              "       [  0,   1,   0,   0,   2,   0,   1,   0,   1,   1,   0,   5,   3,\n",
              "        118, 255, 253, 250, 255, 255, 221,  95,   0,   2,   0,   0,   0,\n",
              "          0,   0],\n",
              "       [  0,   0,   0,   4,   0,   1,   0,   1,   0,   0,   3,   0,   3,\n",
              "          0,   0, 121, 255, 255, 252, 255, 248,   0,   0,   1,   0,   0,\n",
              "          0,   0],\n",
              "       [  0,   0,   4,   0,   0,   1,   0,   1,   1,   1,   0,   0,   0,\n",
              "          2,   0,   1,  10, 155, 255, 255, 250,   3,   1,   0,   0,   0,\n",
              "          0,   0],\n",
              "       [  1,   0,   0,   0,   2,   0,   1,   0,   0,   0,   2,   2,   0,\n",
              "          0,   0,   0,   0,   2, 255, 254, 255,   0,   0,   4,   0,   0,\n",
              "          0,   0],\n",
              "       [  0,   3,   2,   0,   1,   2,   3,   0,   1,   0,   0,   1,   0,\n",
              "          0,   3,   2,   2,   0, 254, 255, 254,   2,   2,   0,   0,   0,\n",
              "          0,   0],\n",
              "       [  0,   0,   0,   6,   0,   0,   0,   1,   0,   2,   0,   2,   0,\n",
              "          3,   0,   0,   0,   1, 254, 255, 252,   3,   0,   2,   0,   0,\n",
              "          0,   0],\n",
              "       [  4,   0,   2,   0,   0,   3,  75, 221, 223,  96,   0,   2,   0,\n",
              "          0,   0,   6,   0, 125, 254, 255, 255,   0,   1,   0,   0,   0,\n",
              "          0,   0],\n",
              "       [  0,   5,   1,   0,   0,   1, 216, 255, 255, 243,  98,   0,   2,\n",
              "          2,   0,  72, 224, 255, 255, 255, 166,   0,   4,   0,   0,   0,\n",
              "          0,   0],\n",
              "       [  0,   0,   0,   5,   2,   1, 126, 253, 255, 254, 255, 255, 255,\n",
              "        255, 255, 255, 255, 255, 253, 183,   9,   1,   0,   0,   0,   0,\n",
              "          0,   0],\n",
              "       [  3,   0,   3,   0,   2,   0,   3, 120, 255, 253, 255, 254, 254,\n",
              "        253, 255, 253, 254, 255, 167,   8,   2,   0,   0,   2,   0,   0,\n",
              "          0,   0],\n",
              "       [  0,   0,   0,   0,   0,   0,   0,   0, 121, 253, 255, 254, 252,\n",
              "        255, 251, 255, 255, 147,   2,   0,   0,   2,   2,   0,   0,   0,\n",
              "          0,   0],\n",
              "       [  0,   0,   0,   0,   0,   0,   0,   0,   0,   7,   0,   2,   1,\n",
              "          0,   0,   0,   0,   3,   0,   1,   0,   0,   0,   0,   0,   0,\n",
              "          0,   0],\n",
              "       [  0,   0,   0,   0,   0,   0,   0,   0,   1,   0,   1,   0,   0,\n",
              "          2,   2,   0,   3,   0,   5,   0,   3,   3,   0,   2,   0,   0,\n",
              "          0,   0],\n",
              "       [  0,   0,   0,   0,   0,   0,   0,   0,   1,   7,   1,   0,   0,\n",
              "          0,   0,   2,   0,   0,   0,   0,   0,   0,   0,   3,   0,   0,\n",
              "          0,   0]], dtype=uint8)</pre></div><script>\n",
              "      (() => {\n",
              "      const titles = ['show data', 'hide data'];\n",
              "      let index = 0\n",
              "      document.querySelector('#id-b303dd79-3923-460b-b896-3c8cdc8cdfeb button').onclick = (e) => {\n",
              "        document.querySelector('#id-b303dd79-3923-460b-b896-3c8cdc8cdfeb').classList.toggle('show_array');\n",
              "        index = (++index) % 2;\n",
              "        document.querySelector('#id-b303dd79-3923-460b-b896-3c8cdc8cdfeb button').textContent = titles[index];\n",
              "        e.preventDefault();\n",
              "        e.stopPropagation();\n",
              "      }\n",
              "      })();\n",
              "    </script>"
            ]
          },
          "metadata": {},
          "execution_count": 117
        }
      ]
    },
    {
      "cell_type": "code",
      "source": [
        "img_scl = img.astype('float32')/255"
      ],
      "metadata": {
        "id": "si5BajbkKGKM"
      },
      "execution_count": 118,
      "outputs": []
    },
    {
      "cell_type": "code",
      "source": [
        "probs = model.predict(np.array([img_scl]))"
      ],
      "metadata": {
        "colab": {
          "base_uri": "https://localhost:8080/"
        },
        "id": "6Lg2__XAK6p9",
        "outputId": "dadb25bf-b917-41dc-fe1e-aa247bbe3614"
      },
      "execution_count": 119,
      "outputs": [
        {
          "output_type": "stream",
          "name": "stdout",
          "text": [
            "\u001b[1m1/1\u001b[0m \u001b[32m━━━━━━━━━━━━━━━━━━━━\u001b[0m\u001b[37m\u001b[0m \u001b[1m0s\u001b[0m 354ms/step\n"
          ]
        }
      ]
    },
    {
      "cell_type": "code",
      "source": [
        "probs"
      ],
      "metadata": {
        "colab": {
          "base_uri": "https://localhost:8080/"
        },
        "id": "g22eFMflLDy_",
        "outputId": "2d546e84-7e1b-44fe-8ee4-ac8c992fffbb"
      },
      "execution_count": 120,
      "outputs": [
        {
          "output_type": "execute_result",
          "data": {
            "text/plain": [
              "array([[4.5564040e-21, 4.3006609e-19, 7.9276626e-15, 1.0000000e+00,\n",
              "        1.8893219e-17, 4.5228878e-09, 1.6299248e-21, 2.1146017e-16,\n",
              "        1.6892634e-14, 6.5002620e-13]], dtype=float32)"
            ]
          },
          "metadata": {},
          "execution_count": 120
        }
      ]
    },
    {
      "cell_type": "code",
      "source": [
        "pred = np.argmax(probs)\n",
        "pred"
      ],
      "metadata": {
        "colab": {
          "base_uri": "https://localhost:8080/"
        },
        "id": "HBSbZeX4LFjN",
        "outputId": "d20f6d81-9ea9-46b1-80fb-879a7396d2f3"
      },
      "execution_count": 122,
      "outputs": [
        {
          "output_type": "execute_result",
          "data": {
            "text/plain": [
              "3"
            ]
          },
          "metadata": {},
          "execution_count": 122
        }
      ]
    },
    {
      "cell_type": "code",
      "source": [
        "prob = np.max(probs)\n",
        "prob"
      ],
      "metadata": {
        "colab": {
          "base_uri": "https://localhost:8080/"
        },
        "id": "BEuU-MhnLJKm",
        "outputId": "7a6c143b-5159-47f9-d1b4-e66bc0ee16af"
      },
      "execution_count": 123,
      "outputs": [
        {
          "output_type": "execute_result",
          "data": {
            "text/plain": [
              "1.0"
            ]
          },
          "metadata": {},
          "execution_count": 123
        }
      ]
    },
    {
      "cell_type": "code",
      "source": [
        "def predict_number(path):\n",
        "  img = cv2.imread(path, cv2.IMREAD_GRAYSCALE)\n",
        "  plt.imshow(img, cmap = 'gray')\n",
        "  plt.show()\n",
        "  img_scl = img.astype('float32')/255\n",
        "  probs = model.predict(np.array([img_scl]))\n",
        "  pred = np.argmax(probs)\n",
        "  prob = np.max(probs)\n",
        "  return pred, prob"
      ],
      "metadata": {
        "id": "7yLZhCycLRN5"
      },
      "execution_count": 124,
      "outputs": []
    },
    {
      "cell_type": "code",
      "source": [
        "predict_number('/content/example_img2.jpg')"
      ],
      "metadata": {
        "colab": {
          "base_uri": "https://localhost:8080/",
          "height": 466
        },
        "id": "CJv7SLITLonn",
        "outputId": "c1c6be83-e597-48dd-956c-2f52bbd3b485"
      },
      "execution_count": 125,
      "outputs": [
        {
          "output_type": "display_data",
          "data": {
            "text/plain": [
              "<Figure size 640x480 with 1 Axes>"
            ],
            "image/png": "[encoded data removed]"
          },
          "metadata": {}
        },
        {
          "output_type": "stream",
          "name": "stdout",
          "text": [
            "\u001b[1m1/1\u001b[0m \u001b[32m━━━━━━━━━━━━━━━━━━━━\u001b[0m\u001b[37m\u001b[0m \u001b[1m0s\u001b[0m 27ms/step\n"
          ]
        },
        {
          "output_type": "execute_result",
          "data": {
            "text/plain": [
              "(7, 0.9775034)"
            ]
          },
          "metadata": {},
          "execution_count": 125
        }
      ]
    },
    {
      "cell_type": "code",
      "source": [
        "predict_number('/content/example_img3.jpg')"
      ],
      "metadata": {
        "colab": {
          "base_uri": "https://localhost:8080/",
          "height": 466
        },
        "id": "KIsbCUyuLx8T",
        "outputId": "aee09757-6c29-477a-ad5e-9eda98ce799b"
      },
      "execution_count": 126,
      "outputs": [
        {
          "output_type": "display_data",
          "data": {
            "text/plain": [
              "<Figure size 640x480 with 1 Axes>"
            ],
            "image/png": "[encoded data removed]"
          },
          "metadata": {}
        },
        {
          "output_type": "stream",
          "name": "stdout",
          "text": [
            "\u001b[1m1/1\u001b[0m \u001b[32m━━━━━━━━━━━━━━━━━━━━\u001b[0m\u001b[37m\u001b[0m \u001b[1m0s\u001b[0m 30ms/step\n"
          ]
        },
        {
          "output_type": "execute_result",
          "data": {
            "text/plain": [
              "(3, 0.50431794)"
            ]
          },
          "metadata": {},
          "execution_count": 126
        }
      ]
    },
    {
      "cell_type": "code",
      "source": [],
      "metadata": {
        "id": "gBwYEz-fL1v8"
      },
      "execution_count": null,
      "outputs": []
    }
  ]
}